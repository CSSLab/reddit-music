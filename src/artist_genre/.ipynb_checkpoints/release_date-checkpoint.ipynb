{
 "cells": [
  {
   "cell_type": "code",
   "execution_count": 1,
   "metadata": {},
   "outputs": [],
   "source": [
    "import pandas as pd \n",
    "import datetime as dt\n",
    "import numpy as np\n",
    "import os\n",
    "os.chdir(r'C:\\Users\\Venia\\Desktop\\reddit_music')\n"
   ]
  },
  {
   "cell_type": "code",
   "execution_count": 2,
   "metadata": {},
   "outputs": [
    {
     "name": "stdout",
     "output_type": "stream",
     "text": [
      "K-pop 1\n",
      "culture\n",
      "metalcore 1\n",
      "rap 2\n",
      "indie 1\n",
      "rap 1\n",
      "political\n",
      "rock\n",
      "culture 2\n",
      "despacito\n",
      "pop-punk 1\n",
      "video games\n",
      "indietronica\n",
      "alt. metal\n",
      "pop 1\n",
      "jazz\n",
      "edm 1\n",
      "monstercat\n",
      "otacore\n",
      "psychedelic\n",
      "indie 2\n",
      "rap 3\n",
      "DnB\n",
      "soundtrack\n",
      "edm 2\n",
      "indie 3\n",
      "pop-punk 2\n",
      "pop 2\n",
      "emo\n",
      "trance\n",
      "Europe\n",
      "electronica\n",
      "hardstyle\n",
      "metalcore 2\n",
      "prog. metal\n",
      "J-pop\n",
      "rap 4\n",
      "makers 1\n",
      "K-pop 2\n",
      "doom metal\n",
      "prog. metal 2\n",
      "power metal\n",
      "grime\n",
      "pop 3\n",
      "spotify\n",
      "synthwave\n",
      "RuPaul\n",
      "Philippines\n",
      "lo-fi\n",
      "makers 2\n"
     ]
    }
   ],
   "source": [
    "# long or short names\n",
    "genre = 'short'\n",
    "\n",
    "# create average age of genres\n",
    "release_date = pd.read_csv(r\"data/raw_data/Artist_Release_Date.csv\")\n",
    "release_date.columns=['Unnamed: 0','artist','release_date','popularity','release_date_s']\n",
    "release_date=release_date[['artist','release_date','popularity']]\n",
    "\n",
    "custom_genres = pd.read_csv(r\"data/raw_data/genre_names_f.csv\")\n",
    "custom_genres['short'] = custom_genres['short'].fillna(custom_genres['genre'])\n",
    "\n",
    "df = pd.read_csv(\"data\\\\RedditMusic.csv\")\n",
    "\n",
    "df = pd.merge(df, custom_genres, on='label', how='left')\n",
    "\n",
    "df=df[[genre,'artist']]\n",
    "df.columns = ['genre','artist']\n",
    "df2=pd.merge(df, release_date, on ='artist')\n",
    "\n",
    "df2['release_date']=pd.to_datetime(df2['release_date'])\n",
    "\n",
    "genres = df2['genre'].unique()\n",
    "\n",
    "\n",
    "\n",
    "periods = []\n",
    "for g in genres:\n",
    "    print(g)\n",
    "    temp = df2.loc[df2['genre'] == g,'release_date'].mean()\n",
    "    periods.append({'genre':g,'mean_release_time': temp})\n",
    "\n",
    "release_date_genres = pd.DataFrame(periods)\n",
    "\n",
    "\n",
    "release_date_genres.to_csv(\"data\\\\derived_data\\\\{}_release_dates_s.csv\".format(genre))\n"
   ]
  },
  {
   "cell_type": "code",
   "execution_count": 15,
   "metadata": {
    "scrolled": true
   },
   "outputs": [
    {
     "data": {
      "text/html": [
       "<div>\n",
       "<style scoped>\n",
       "    .dataframe tbody tr th:only-of-type {\n",
       "        vertical-align: middle;\n",
       "    }\n",
       "\n",
       "    .dataframe tbody tr th {\n",
       "        vertical-align: top;\n",
       "    }\n",
       "\n",
       "    .dataframe thead th {\n",
       "        text-align: right;\n",
       "    }\n",
       "</style>\n",
       "<table border=\"1\" class=\"dataframe\">\n",
       "  <thead>\n",
       "    <tr style=\"text-align: right;\">\n",
       "      <th></th>\n",
       "      <th>Unnamed: 0</th>\n",
       "      <th>name</th>\n",
       "      <th>release_date</th>\n",
       "      <th>popularity</th>\n",
       "      <th>release_date_s</th>\n",
       "    </tr>\n",
       "  </thead>\n",
       "  <tbody>\n",
       "    <tr>\n",
       "      <th>817</th>\n",
       "      <td>817</td>\n",
       "      <td>Luis Fonsi</td>\n",
       "      <td>2017-04-17</td>\n",
       "      <td>74.0</td>\n",
       "      <td>1.492387e+09</td>\n",
       "    </tr>\n",
       "  </tbody>\n",
       "</table>\n",
       "</div>"
      ],
      "text/plain": [
       "     Unnamed: 0        name release_date  popularity  release_date_s\n",
       "817         817  Luis Fonsi   2017-04-17        74.0    1.492387e+09"
      ]
     },
     "execution_count": 15,
     "metadata": {},
     "output_type": "execute_result"
    }
   ],
   "source": [
    "release_date = pd.read_csv(r\"data/raw_data/Artist_Release_Date.csv\")\n",
    "release_date[release_date['name']=='Luis Fonsi']"
   ]
  },
  {
   "cell_type": "markdown",
   "metadata": {},
   "source": [
    "Code to create the artist release date"
   ]
  },
  {
   "cell_type": "code",
   "execution_count": null,
   "metadata": {},
   "outputs": [],
   "source": [
    "\n",
    "## data should be all the track id metadata. This should include the popularity and release date column. \n",
    "def artist_release_date(data):\n",
    "    ids = data.groupby('artist')['popularity'].idxmax()\n",
    "\n",
    "    artists=data['artist'].unique()\n",
    "    artists = [x for x in artists if str(x) != 'nan']\n",
    "    data=[]\n",
    "\n",
    "    for a in artists:\n",
    "        temp = data.iloc[ids[a]]\n",
    "        release_date = temp['release_date']\n",
    "        popularity = temp['popularity']\n",
    "        data.append({'name': a,'release_date': release_date,'popularity':popularity})\n",
    "\n",
    "    artist_period = pd.DataFrame(data)\n",
    "    artist_period['release_date']=pd.to_datetime(artist_period['release_date'])\n",
    "    artist_period['release_date_s'] = (artist_period['release_date'] - dt.datetime(1970,1,1)).dt.total_seconds()\n",
    "    return artist_period\n",
    "\n",
    "artist_period = artist_release_date(data)\n",
    "artist_period.to_csv(\"data\\\\raw_data\\\\Artist_Release_Date.csv\")\n"
   ]
  }
 ],
 "metadata": {
  "kernelspec": {
   "display_name": "Python 3",
   "language": "python",
   "name": "python3"
  },
  "language_info": {
   "codemirror_mode": {
    "name": "ipython",
    "version": 3
   },
   "file_extension": ".py",
   "mimetype": "text/x-python",
   "name": "python",
   "nbconvert_exporter": "python",
   "pygments_lexer": "ipython3",
   "version": "3.8.5"
  }
 },
 "nbformat": 4,
 "nbformat_minor": 2
}
