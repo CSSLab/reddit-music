{
 "cells": [
  {
   "cell_type": "markdown",
   "metadata": {},
   "source": [
    "# Get Album Tracks"
   ]
  },
  {
   "cell_type": "markdown",
   "metadata": {},
   "source": [
    "When Spotify Albums are shared, we need to extract the songs that are in them. To do this we use Spotify. "
   ]
  },
  {
   "cell_type": "code",
   "execution_count": null,
   "metadata": {},
   "outputs": [],
   "source": [
    "import pandas as pd \n",
    "import json\n",
    "import spotipy\n",
    "from spotipy.oauth2 import SpotifyClientCredentials\n",
    "import numpy as np"
   ]
  },
  {
   "cell_type": "code",
   "execution_count": null,
   "metadata": {},
   "outputs": [],
   "source": [
    "os.environ['spotify_client_key'] = 'SPOTIFY_CLIENT_KEY'\n",
    "os.environ['spotify_secret_key'] = 'SPOTIFY_SECRET_KEY'\n",
    "\n",
    "\n",
    "client_credentials_manager = SpotifyClientCredentials(client_id=os.environ.get('spotify_client_key'),client_secret=os.environ.get('spotify_secret_key'))\n",
    "sp = spotipy.Spotify(client_credentials_manager=client_credentials_manager)"
   ]
  },
  {
   "cell_type": "code",
   "execution_count": null,
   "metadata": {},
   "outputs": [],
   "source": [
    "# albums should be a list of all the album ids. this should be from pd.read_csv(\"output\\\\album_ids.csv\")\n",
    "def extract_album_tracks(albums):\n",
    "    data={}\n",
    "    i=0\n",
    "    for album in albums:\n",
    "        if i % 1000== 1:\n",
    "            df2 = pd.DataFrame.from_dict(data,orient='index')\n",
    "            df2.to_csv('album_tracks_temp.csv')\n",
    "        i+=1\n",
    "        try:\n",
    "            print(album)\n",
    "            a = sp.album_tracks(album)['items']\n",
    "            b = sp.album(album)\n",
    "            release_date = b['release_date']\n",
    "            popularity = b['popularity']\n",
    "            track_names = [k['name'] for k in a]\n",
    "            track_ids = [k['id'] for k in a]\n",
    "            artists = [k['artists'][0]['name'] for k in a]\n",
    "            artist_ids = [k['artists'][0]['id'] for k in a]\n",
    "            data.update({album:\n",
    "            {'track_names': track_names, \n",
    "            'release_date':release_date,\n",
    "            'popularity':popularity,\n",
    "            'track_ids': track_ids,\n",
    "            'artists':artists,\n",
    "            'artist_ids':artist_ids}})\n",
    "        except:\n",
    "            print(\"didn't work\")\n",
    "    df = pd.DataFrame.from_dict(data,orient='index')\n",
    "    return df\n",
    "\n"
   ]
  }
 ],
 "metadata": {
  "kernelspec": {
   "display_name": "Python 3",
   "language": "python",
   "name": "python3"
  },
  "language_info": {
   "codemirror_mode": {
    "name": "ipython",
    "version": 3
   },
   "file_extension": ".py",
   "mimetype": "text/x-python",
   "name": "python",
   "nbconvert_exporter": "python",
   "pygments_lexer": "ipython3",
   "version": "3.7.1"
  }
 },
 "nbformat": 4,
 "nbformat_minor": 2
}
