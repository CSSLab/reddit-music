{
 "cells": [
  {
   "cell_type": "code",
   "execution_count": null,
   "metadata": {},
   "outputs": [],
   "source": [
    "from sqlalchemy import create_engine\n",
    "import pandas as pd\n",
    "import json\n",
    "import spotipy\n",
    "from spotipy.oauth2 import SpotifyClientCredentials\n",
    "import numpy as np"
   ]
  },
  {
   "cell_type": "code",
   "execution_count": null,
   "metadata": {},
   "outputs": [],
   "source": [
    "os.environ['spotify_client_key'] = 'SPOTIFY_CLIENT_KEY'\n",
    "os.environ['spotify_secret_key'] = 'SPOTIFY_SECRET_KEY'\n",
    "\n",
    "\n",
    "client_credentials_manager = SpotifyClientCredentials(client_id=os.environ.get('spotify_client_key'),client_secret=os.environ.get('spotify_secret_key'))\n",
    "sp = spotipy.Spotify(client_credentials_manager=client_credentials_manager)\n"
   ]
  },
  {
   "cell_type": "code",
   "execution_count": null,
   "metadata": {},
   "outputs": [],
   "source": [
    "artist_info = {}\n",
    "def artist_data(artistids):\n",
    "    for i in artistids:\n",
    "        try:\n",
    "            print(list(artistids).index(i))\n",
    "            k = sp.artist(i)\n",
    "            artist = k['name']\n",
    "            popularity = k['popularity']\n",
    "            genres = k['genres']\n",
    "            followers = k['followers']\n",
    "            artist_info.update({i: {'artist': artist,'popularity': popularity, 'genres': genres,'followers':followers}})\n",
    "        except:\n",
    "            print('link is fake news')\n",
    "    df2 = pd.DataFrame.from_dict(artist_info).T\n",
    "    return df2\n"
   ]
  }
 ],
 "metadata": {
  "kernelspec": {
   "display_name": "Python 3",
   "language": "python",
   "name": "python3"
  },
  "language_info": {
   "codemirror_mode": {
    "name": "ipython",
    "version": 3
   },
   "file_extension": ".py",
   "mimetype": "text/x-python",
   "name": "python",
   "nbconvert_exporter": "python",
   "pygments_lexer": "ipython3",
   "version": "3.7.1"
  }
 },
 "nbformat": 4,
 "nbformat_minor": 2
}
