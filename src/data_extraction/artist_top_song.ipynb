{
 "cells": [
  {
   "cell_type": "markdown",
   "metadata": {},
   "source": [
    "In this file we use the Spotify and Reddit data to get the top song for each artist. "
   ]
  },
  {
   "cell_type": "code",
   "execution_count": null,
   "metadata": {},
   "outputs": [],
   "source": [
    "import pandas as pd \n",
    "import numpy as np \n",
    "\n",
    "df = pd.read_csv(\"full-analysis\\\\datasets\\\\Reddit_Sub_Com_v4_genre.csv\")\n",
    "track_data=pd.read_csv(\"data\\\\datasets-important\\\\TrackData.csv\")\n",
    "track_data=track_data.drop_duplicates(subset=['track_id'])\n"
   ]
  },
  {
   "cell_type": "code",
   "execution_count": null,
   "metadata": {},
   "outputs": [],
   "source": [
    "data = pd.merge(df,track_data, on = 'track_id')\n",
    "data['artist']=data['artist_y']\n",
    "\n",
    "art_son = data.groupby('artist')['track_name'].agg(pd.Series.mode)\n",
    "art_son=art_son.reset_index()\n",
    "\n",
    "art_son['key'] = art_son['artist']+art_son['track_name']\n",
    "\n",
    "unique = data.groupby('artist')['track_name'].count()\n",
    "unique = unique.reset_index()\n",
    "\n",
    "artist_song = data.groupby(['artist','track_name'])['Unnamed: 0_x'].count()\n",
    "artist_song=artist_song.reset_index()\n",
    "\n",
    "artist_song = pd.merge(artist_song, unique, on = 'artist')\n",
    "artist_song.columns = ['artist','track_name','song_count','artist_count']\n",
    "\n",
    "artist_song['proporition'] = artist_song['song_count']/artist_song['artist_count']\n",
    "artist_song['key'] = artist_song['artist'] + artist_song['track_name']"
   ]
  },
  {
   "cell_type": "code",
   "execution_count": null,
   "metadata": {},
   "outputs": [],
   "source": [
    "\n",
    "art_son['key'] = art_son['key'].apply(lambda x: str(x))\n",
    "artist_song['key'] = artist_song['key'].apply(lambda x: str(x))\n",
    "data =  pd.merge(art_son, artist_song[['key','proporition']], on = 'key')\n",
    "data.drop('key',axis=1,inplace=True)\n",
    "\n",
    "data.to_csv(\"data\\\\artist-song.csv\")"
   ]
  }
 ],
 "metadata": {
  "kernelspec": {
   "display_name": "Python 3",
   "language": "python",
   "name": "python3"
  },
  "language_info": {
   "codemirror_mode": {
    "name": "ipython",
    "version": 3
   },
   "file_extension": ".py",
   "mimetype": "text/x-python",
   "name": "python",
   "nbconvert_exporter": "python",
   "pygments_lexer": "ipython3",
   "version": "3.7.1"
  }
 },
 "nbformat": 4,
 "nbformat_minor": 2
}
