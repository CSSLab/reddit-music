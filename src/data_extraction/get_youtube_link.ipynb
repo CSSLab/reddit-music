{
 "cells": [
  {
   "cell_type": "markdown",
   "metadata": {},
   "source": [
    "## Connect a song and artist name to a YouTube video"
   ]
  },
  {
   "cell_type": "markdown",
   "metadata": {},
   "source": [
    "Given a song and artist name, we want to find the YouTube link for that song. \n",
    "\n",
    "Last.fm has YouTube links on their website. \n",
    "\n",
    "We scrape their website to and then find the YouTube link li"
   ]
  },
  {
   "cell_type": "code",
   "execution_count": null,
   "metadata": {},
   "outputs": [],
   "source": [
    "import pandas as pd \n",
    "import requests\n",
    "\n",
    "# input should be a list of dictionaries of the following form [{'artist': artist_1,'track':track_1}, {'artist': artist_2, 'track':track_2'}...]\n",
    "# if you wish to run this program paralelly start and end mark the values to start and end at\n",
    "def get_youtube_links(values,start,end):\n",
    "    for i in range(start, end):\n",
    "        try:\n",
    "            print(\"We're on track {}\".format(i))\n",
    "            if i % 300==50:\n",
    "                pd.DataFrame(values).to_csv('TracksWithYouTubeLink2{}_{}.csv'.format(start,end))\n",
    "            artist = values[i]['artist'].replace(' ','+')\n",
    "            title = values[i]['track'].replace(' ', '+')\n",
    "            r = requests.get('http://www.last.fm/music/{}/_/{}'.format(artist, title)).text\n",
    "            ind = r.find('data-track-name=\\\"{}\\\"'.format(title))\n",
    "            youtube_id = r[ind-18:ind-7]\n",
    "            values[i].update({'youtube_id':youtube_id})\n",
    "        except:\n",
    "            print('cound not find this youtube link')\n",
    "    return values\n",
    "\n"
   ]
  }
 ],
 "metadata": {
  "kernelspec": {
   "display_name": "Python 3",
   "language": "python",
   "name": "python3"
  },
  "language_info": {
   "codemirror_mode": {
    "name": "ipython",
    "version": 3
   },
   "file_extension": ".py",
   "mimetype": "text/x-python",
   "name": "python",
   "nbconvert_exporter": "python",
   "pygments_lexer": "ipython3",
   "version": "3.7.1"
  }
 },
 "nbformat": 4,
 "nbformat_minor": 2
}
