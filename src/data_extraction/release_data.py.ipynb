{
 "cells": [
  {
   "cell_type": "markdown",
   "metadata": {},
   "source": [
    "# Artist Release Data"
   ]
  },
  {
   "cell_type": "code",
   "execution_count": null,
   "metadata": {},
   "outputs": [],
   "source": [
    "import pandas as pd \n",
    "import datetime as dt\n",
    "import numpy as np"
   ]
  },
  {
   "cell_type": "code",
   "execution_count": null,
   "metadata": {},
   "outputs": [],
   "source": [
    "## data should be all the track id metadata. This should include the popularity and release date column. \n",
    "def artist_release_date(data):\n",
    "    ids = data.groupby('artist')['popularity'].idxmax()\n",
    "\n",
    "    artists=data['artist'].unique()\n",
    "    artists = [x for x in artists if str(x) != 'nan']\n",
    "    data=[]\n",
    "\n",
    "    for a in artists:\n",
    "        temp = data.iloc[ids[a]]\n",
    "        release_date = temp['release_date']\n",
    "        popularity = temp['popularity']\n",
    "        data.append({'name': a,'release_date': release_date,'popularity':popularity})\n",
    "\n",
    "    artist_period = pd.DataFrame(data)\n",
    "    artist_period['release_date']=pd.to_datetime(artist_period['release_date'])\n",
    "    artist_period['release_date_s'] = (artist_period['release_date'] - dt.datetime(1970,1,1)).dt.total_seconds()\n",
    "    return artist_period\n",
    "\n",
    "artist_period = artist_release_date(data)\n",
    "artist_period.to_csv(\"data\\\\Artist_Release_Date.csv\")\n"
   ]
  },
  {
   "cell_type": "code",
   "execution_count": null,
   "metadata": {},
   "outputs": [],
   "source": [
    "# create average age of genres\n",
    "release_date = pd.read_csv(r\"C:\\Users\\DELL XPS\\Desktop\\SummerResearch\\Artist_Release_Date.csv\")\n",
    "release_date.columns=['Unnamed: 0','artist','release_date','popularity','release_date_s']\n",
    "release_date=release_date[['artist','release_date','popularity']]\n",
    "\n",
    "custom_genres = pd.read_csv(r\"C:\\Users\\DELL XPS\\Desktop\\SummerResearch\\full-analysis\\datasets\\genre_names_v4.csv\")\n",
    "df = pd.read_csv(r'C:\\Users\\DELL XPS\\Desktop\\SummerResearch\\full-analysis\\datasets\\Reddit_Sub_Com_v4_genre.csv')\n",
    "\n",
    "df = pd.merge(df, custom_genres, on='label', how='left')\n",
    "\n",
    "df=df[['genre','artist']]\n",
    "\n",
    "df2=pd.merge(df, release_date, on ='artist')\n",
    "\n",
    "df2['release_date']=pd.to_datetime(df2['release_date'])\n",
    "\n",
    "genres = df2['genre'].unique()\n",
    "\n",
    "periods = []\n",
    "for g in genres:\n",
    "    print(g)\n",
    "    temp = df2.loc[df2['genre'] == g,'release_date'].mean()\n",
    "    periods.append({'genre':g,'mean_release_time': temp})\n",
    "\n",
    "release_date_genres = pd.DataFrame(periods)\n",
    "\n",
    "release_date_genres.to_csv(\"full-analysis\\\\genre_release_dates.csv\")\n"
   ]
  }
 ],
 "metadata": {
  "kernelspec": {
   "display_name": "Python 3",
   "language": "python",
   "name": "python3"
  },
  "language_info": {
   "codemirror_mode": {
    "name": "ipython",
    "version": 3
   },
   "file_extension": ".py",
   "mimetype": "text/x-python",
   "name": "python",
   "nbconvert_exporter": "python",
   "pygments_lexer": "ipython3",
   "version": "3.7.1"
  }
 },
 "nbformat": 4,
 "nbformat_minor": 2
}
