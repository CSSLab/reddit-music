{
 "cells": [
  {
   "cell_type": "markdown",
   "metadata": {},
   "source": [
    "# Extract Spotify Data "
   ]
  },
  {
   "cell_type": "markdown",
   "metadata": {},
   "source": [
    "### Use Spotify API to extract song data\n",
    "In this file we iterate through the song ids extracted prior, to get all the necessary metadata. "
   ]
  },
  {
   "cell_type": "code",
   "execution_count": null,
   "metadata": {},
   "outputs": [],
   "source": [
    "from sqlalchemy import create_engine\n",
    "import pandas as pd\n",
    "import json\n",
    "import spotipy\n",
    "from spotipy.oauth2 import SpotifyClientCredentials\n",
    "import numpy as np"
   ]
  },
  {
   "cell_type": "code",
   "execution_count": null,
   "metadata": {},
   "outputs": [],
   "source": [
    "os.environ['spotify_client_key'] = 'SPOTIFY_CLIENT_KEY'\n",
    "os.environ['spotify_secret_key'] = 'SPOTIFY_SECRET_KEY'\n",
    "\n",
    "\n",
    "client_credentials_manager = SpotifyClientCredentials(client_id=os.environ.get('spotify_client_key'),client_secret=os.environ.get('spotify_secret_key'))\n",
    "sp = spotipy.Spotify(client_credentials_manager=client_credentials_manager)"
   ]
  },
  {
   "cell_type": "code",
   "execution_count": null,
   "metadata": {},
   "outputs": [],
   "source": [
    "\n",
    "### if you have a previous existing dataset of track ids\n",
    "# old_data should be a list of track_ids we have already scraped. new_data should be a list of track_ids we have not yet scraped. \n",
    "def remove_duplicates(old_data, new_data):\n",
    "    songids= list(set(new_data['0'].unique())-set(old_data.values))\n",
    "    return songids"
   ]
  },
  {
   "cell_type": "code",
   "execution_count": null,
   "metadata": {},
   "outputs": [],
   "source": [
    "\n",
    "def extract_tracks(songids):\n",
    "    j=0\n",
    "    song_info = {}\n",
    "    for i in songids:\n",
    "        if j % 1000 == 40:\n",
    "            pd.DataFrame.from_dict(song_info).T.to_csv(\"SongData2_temp.csv\")\n",
    "        j+=1\n",
    "        try:\n",
    "            print(j/len(songids))\n",
    "            k = sp.track(i)\n",
    "            artist = k['artists'][0]['name']\n",
    "            album = k['album']['name'] \n",
    "            release_date = k['album']['release_date']\n",
    "            popularity = k['popularity']\n",
    "            explicit = k['explicit']\n",
    "            track_name = k['name']\n",
    "            song_info.update({i: {'artist': artist,'album': album,'release_date': release_date, 'popularity': popularity,'explicit': explicit,'track_name':track_name}})\n",
    "        except:\n",
    "            print('Id not found')\n",
    "    df = pd.DataFrame.from_dict(song_info).T\n",
    "    return df\n",
    "\n",
    "# df2.to_csv('output\\\\TrackData.csv')\n"
   ]
  }
 ],
 "metadata": {
  "kernelspec": {
   "display_name": "Python 3",
   "language": "python",
   "name": "python3"
  },
  "language_info": {
   "codemirror_mode": {
    "name": "ipython",
    "version": 3
   },
   "file_extension": ".py",
   "mimetype": "text/x-python",
   "name": "python",
   "nbconvert_exporter": "python",
   "pygments_lexer": "ipython3",
   "version": "3.7.1"
  }
 },
 "nbformat": 4,
 "nbformat_minor": 2
}
