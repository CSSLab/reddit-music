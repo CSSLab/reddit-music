{
 "cells": [
  {
   "cell_type": "markdown",
   "metadata": {},
   "source": [
    "# Validate YouTube Links"
   ]
  },
  {
   "cell_type": "markdown",
   "metadata": {},
   "source": [
    "We want to make sure the YouTube videos we got from Last.fm are correct."
   ]
  },
  {
   "cell_type": "code",
   "execution_count": null,
   "metadata": {},
   "outputs": [],
   "source": [
    "import pandas as pd\n",
    "import requests"
   ]
  },
  {
   "cell_type": "code",
   "execution_count": null,
   "metadata": {},
   "outputs": [],
   "source": [
    "\n",
    "### for youtube links that are associated with at least three songs, \n",
    "#youtube_id should be a dataframe with track name, youtube_id and artist. \n",
    "\n",
    "\n",
    "def validate(youtube_id, min_tracks = 3):\n",
    "    k = youtube_id.groupby('youtube_id')['youtube_id'].count().sort_values()\n",
    "    links =list(k[k>  min_tracks].index)\n",
    "    title = r'\\\"title\\\":\\\"'\n",
    "    lis = []\n",
    "    lis2 = []\n",
    "    for link in links: \n",
    "        r = requests.get('https://' +link)\n",
    "        ind = r.text.find(title)\n",
    "        text = r.text[ind+len(title):].find('\\\\\\\"')\n",
    "        name = r.text[ind+len(title):ind+text]\n",
    "        print(links.index(link))\n",
    "        data = youtube_id[youtube_id['youtube_id'] == link]['track_name']\n",
    "        index = data.index \n",
    "        names = data.values\n",
    "        for i, n in zip(index, names):\n",
    "            if n.lower() in name.lower():\n",
    "                print('works')\n",
    "                pass\n",
    "            else:\n",
    "                print('didnt work')\n",
    "                lis.append({'link': link,'index':i,'track_name':n,'youtube_title': name})\n",
    "                youtube_id.drop(i,inplace=True)\n",
    "    return youtube_id"
   ]
  }
 ],
 "metadata": {
  "kernelspec": {
   "display_name": "Python 3",
   "language": "python",
   "name": "python3"
  },
  "language_info": {
   "codemirror_mode": {
    "name": "ipython",
    "version": 3
   },
   "file_extension": ".py",
   "mimetype": "text/x-python",
   "name": "python",
   "nbconvert_exporter": "python",
   "pygments_lexer": "ipython3",
   "version": "3.7.1"
  }
 },
 "nbformat": 4,
 "nbformat_minor": 2
}
