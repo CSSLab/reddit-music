{
 "cells": [
  {
   "cell_type": "code",
   "execution_count": 1,
   "metadata": {},
   "outputs": [],
   "source": [
    "import pandas as pd \n",
    "import numpy as np \n",
    "from sklearn.metrics import pairwise \n",
    "import os\n",
    "os.chdir(r'C:\\Users\\DELL XPS\\Desktop\\reddit_music')\n",
    "meme_vector = pd.read_csv(\"data\\\\Rick Astley-vector_f2_2.csv\")\n",
    "\n",
    "artist = pd.read_csv(\"data\\\\Artist_Vector_n_v4.csv\")\n",
    "artist.index = artist['artist']\n",
    "artist_song = pd.read_csv(\"data\\\\artist-song.csv\")"
   ]
  },
  {
   "cell_type": "code",
   "execution_count": null,
   "metadata": {},
   "outputs": [],
   "source": [
    "\n",
    "\n",
    "artist = artist[[str(k) for k in range(150)]]\n",
    "cosine = pd.DataFrame(pairwise.cosine_similarity(artist, meme_vector.T), index = artist.index)\n",
    "\n",
    "cosine_sorted = cosine.sort_values(by =0, ascending = False)\n",
    "cosine_sorted = cosine_sorted.reset_index()\n",
    "\n",
    "cosine_sorted2 = pd.merge(cosine_sorted, artist_song, on ='artist')\n",
    "cosine_sorted2.columns = ['artist','score','index','track_name','proportion']\n",
    "cosine_sorted2 = cosine_sorted2[['artist','score','track_name','proportion']]\n",
    "\n",
    "cosine_sorted2.to_csv(\"data\\\\meme_artist_scores3_2.csv\")\n"
   ]
  },
  {
   "cell_type": "code",
   "execution_count": 2,
   "metadata": {},
   "outputs": [],
   "source": [
    "counts= pd.read_csv(\"data\\\\artist_counts.csv\")\n",
    "memes = pd.read_csv(\"data\\\\meme_artist_scores3_test.csv\")\n",
    "gs_score = pd.read_csv(\"data\\\\gs_score_percentile_f.csv\")\n",
    "memes2 = pd.merge(memes, gs_score[['artist','percentile']], on ='artist', how='inner')\n",
    "memes3=memes2[memes2['percentile']==100]"
   ]
  },
  {
   "cell_type": "code",
   "execution_count": 3,
   "metadata": {},
   "outputs": [
    {
     "name": "stderr",
     "output_type": "stream",
     "text": [
      "C:\\ProgramData\\Anaconda3\\lib\\site-packages\\ipykernel_launcher.py:8: SettingWithCopyWarning: \n",
      "A value is trying to be set on a copy of a slice from a DataFrame.\n",
      "Try using .loc[row_indexer,col_indexer] = value instead\n",
      "\n",
      "See the caveats in the documentation: https://pandas.pydata.org/pandas-docs/stable/user_guide/indexing.html#returning-a-view-versus-a-copy\n",
      "  \n"
     ]
    }
   ],
   "source": [
    "min_score = memes3['score'].min()\n",
    "max_score = memes3['score'].max()\n",
    "\n",
    "diff = max_score - min_score\n",
    "\n",
    "min_score2 = min_score/diff\n",
    "\n",
    "memes3['Normalized score'] = memes3['score'].apply(lambda x: (x/diff) - min_score2)"
   ]
  },
  {
   "cell_type": "code",
   "execution_count": 4,
   "metadata": {},
   "outputs": [
    {
     "data": {
      "text/html": [
       "<div>\n",
       "<style scoped>\n",
       "    .dataframe tbody tr th:only-of-type {\n",
       "        vertical-align: middle;\n",
       "    }\n",
       "\n",
       "    .dataframe tbody tr th {\n",
       "        vertical-align: top;\n",
       "    }\n",
       "\n",
       "    .dataframe thead th {\n",
       "        text-align: right;\n",
       "    }\n",
       "</style>\n",
       "<table border=\"1\" class=\"dataframe\">\n",
       "  <thead>\n",
       "    <tr style=\"text-align: right;\">\n",
       "      <th></th>\n",
       "      <th>Unnamed: 0</th>\n",
       "      <th>artist</th>\n",
       "      <th>score</th>\n",
       "      <th>track_name</th>\n",
       "      <th>proportion</th>\n",
       "    </tr>\n",
       "  </thead>\n",
       "  <tbody>\n",
       "    <tr>\n",
       "      <th>0</th>\n",
       "      <td>0</td>\n",
       "      <td>Luis Fonsi</td>\n",
       "      <td>0.227184</td>\n",
       "      <td>Despacito (Featuring Daddy Yankee)</td>\n",
       "      <td>0.993290</td>\n",
       "    </tr>\n",
       "    <tr>\n",
       "      <th>1</th>\n",
       "      <td>1</td>\n",
       "      <td>Or3o</td>\n",
       "      <td>0.142272</td>\n",
       "      <td>Doki Doki Forever</td>\n",
       "      <td>1.000000</td>\n",
       "    </tr>\n",
       "    <tr>\n",
       "      <th>2</th>\n",
       "      <td>2</td>\n",
       "      <td>Dan Salvato</td>\n",
       "      <td>0.135774</td>\n",
       "      <td>Your Reality</td>\n",
       "      <td>0.542857</td>\n",
       "    </tr>\n",
       "    <tr>\n",
       "      <th>3</th>\n",
       "      <td>3</td>\n",
       "      <td>#1 Funny Ringtones for Android Best New Annoyi...</td>\n",
       "      <td>0.132840</td>\n",
       "      <td>Porn Detected! (Porno Ringtone Hot Chick Amate...</td>\n",
       "      <td>1.000000</td>\n",
       "    </tr>\n",
       "    <tr>\n",
       "      <th>4</th>\n",
       "      <td>4</td>\n",
       "      <td>Hiroaki Tommy Tominaga</td>\n",
       "      <td>0.131658</td>\n",
       "      <td>Jojo Sono Chino Sadame</td>\n",
       "      <td>1.000000</td>\n",
       "    </tr>\n",
       "    <tr>\n",
       "      <th>...</th>\n",
       "      <td>...</td>\n",
       "      <td>...</td>\n",
       "      <td>...</td>\n",
       "      <td>...</td>\n",
       "      <td>...</td>\n",
       "    </tr>\n",
       "    <tr>\n",
       "      <th>4179</th>\n",
       "      <td>4179</td>\n",
       "      <td>Defective Sounds of London</td>\n",
       "      <td>-0.424424</td>\n",
       "      <td>In the Night</td>\n",
       "      <td>0.239130</td>\n",
       "    </tr>\n",
       "    <tr>\n",
       "      <th>4180</th>\n",
       "      <td>4180</td>\n",
       "      <td>Pulse Modulators</td>\n",
       "      <td>-0.425953</td>\n",
       "      <td>Auld Lang Syne - Street Mix</td>\n",
       "      <td>0.162791</td>\n",
       "    </tr>\n",
       "    <tr>\n",
       "      <th>4181</th>\n",
       "      <td>4181</td>\n",
       "      <td>Prurient</td>\n",
       "      <td>-0.428774</td>\n",
       "      <td>Dragonflies to Sew You Up</td>\n",
       "      <td>0.692308</td>\n",
       "    </tr>\n",
       "    <tr>\n",
       "      <th>4182</th>\n",
       "      <td>4182</td>\n",
       "      <td>The Barren Gods</td>\n",
       "      <td>-0.430480</td>\n",
       "      <td>Sunday Evening Suicide</td>\n",
       "      <td>0.200000</td>\n",
       "    </tr>\n",
       "    <tr>\n",
       "      <th>4183</th>\n",
       "      <td>4183</td>\n",
       "      <td>Keos Nabichi</td>\n",
       "      <td>-0.445020</td>\n",
       "      <td>Hartaya</td>\n",
       "      <td>0.363636</td>\n",
       "    </tr>\n",
       "  </tbody>\n",
       "</table>\n",
       "<p>4184 rows × 5 columns</p>\n",
       "</div>"
      ],
      "text/plain": [
       "      Unnamed: 0                                             artist     score  \\\n",
       "0              0                                         Luis Fonsi  0.227184   \n",
       "1              1                                               Or3o  0.142272   \n",
       "2              2                                        Dan Salvato  0.135774   \n",
       "3              3  #1 Funny Ringtones for Android Best New Annoyi...  0.132840   \n",
       "4              4                             Hiroaki Tommy Tominaga  0.131658   \n",
       "...          ...                                                ...       ...   \n",
       "4179        4179                         Defective Sounds of London -0.424424   \n",
       "4180        4180                                   Pulse Modulators -0.425953   \n",
       "4181        4181                                           Prurient -0.428774   \n",
       "4182        4182                                    The Barren Gods -0.430480   \n",
       "4183        4183                                       Keos Nabichi -0.445020   \n",
       "\n",
       "                                             track_name  proportion  \n",
       "0                    Despacito (Featuring Daddy Yankee)    0.993290  \n",
       "1                                     Doki Doki Forever    1.000000  \n",
       "2                                          Your Reality    0.542857  \n",
       "3     Porn Detected! (Porno Ringtone Hot Chick Amate...    1.000000  \n",
       "4                                Jojo Sono Chino Sadame    1.000000  \n",
       "...                                                 ...         ...  \n",
       "4179                                       In the Night    0.239130  \n",
       "4180                        Auld Lang Syne - Street Mix    0.162791  \n",
       "4181                          Dragonflies to Sew You Up    0.692308  \n",
       "4182                             Sunday Evening Suicide    0.200000  \n",
       "4183                                            Hartaya    0.363636  \n",
       "\n",
       "[4184 rows x 5 columns]"
      ]
     },
     "execution_count": 4,
     "metadata": {},
     "output_type": "execute_result"
    }
   ],
   "source": []
  },
  {
   "cell_type": "code",
   "execution_count": 25,
   "metadata": {},
   "outputs": [],
   "source": [
    "memes3_temp = memes3.dropna(subset=['track_name'])\n",
    "val = \"\"\n",
    "for i, row in memes3_temp[['artist','track_name','Normalized score']].tail(10).iterrows():\n",
    "    val += \"& {} & {} & ${}$\\\\\\ \".format(str(row[0]).replace(\"&\", \"\\&\"),str(row[1]).replace(\"&\", \"\\&\"),round(row[2],3))"
   ]
  },
  {
   "cell_type": "code",
   "execution_count": 26,
   "metadata": {},
   "outputs": [
    {
     "name": "stdout",
     "output_type": "stream",
     "text": [
      "& Björk & It's Oh So Quiet & $0.05$\\\\ & St. Vincent & Digital Witness & $0.046$\\\\ & Janelle Monáe & Make Me Feel & $0.044$\\\\ & Baroness & Chlorine \\& Wine & $0.042$\\\\ & Purity Ring & bodyache & $0.038$\\\\ & Slowdive & Alison & $0.037$\\\\ & Jon Hopkins & Open Eye Signal & $0.029$\\\\ & Deafheaven & Dream House & $0.019$\\\\ & Autechre & feed1 & $0.001$\\\\ & Pavement & Cut Your Hair & $0.0$\\\\ \n"
     ]
    }
   ],
   "source": [
    "print(val)"
   ]
  },
  {
   "cell_type": "code",
   "execution_count": null,
   "metadata": {},
   "outputs": [],
   "source": []
  }
 ],
 "metadata": {
  "kernelspec": {
   "display_name": "Python 3",
   "language": "python",
   "name": "python3"
  },
  "language_info": {
   "codemirror_mode": {
    "name": "ipython",
    "version": 3
   },
   "file_extension": ".py",
   "mimetype": "text/x-python",
   "name": "python",
   "nbconvert_exporter": "python",
   "pygments_lexer": "ipython3",
   "version": "3.7.1"
  }
 },
 "nbformat": 4,
 "nbformat_minor": 2
}
