{
 "cells": [
  {
   "cell_type": "code",
   "execution_count": 2,
   "metadata": {},
   "outputs": [],
   "source": [
    "import pandas as pd \n",
    "import numpy as np \n",
    "from sklearn.metrics import pairwise \n",
    "import os\n",
    "os.chdir(r'C:\\Users\\Venia\\Desktop\\reddit_music')\n",
    "meme_vector = pd.read_csv(\"data\\\\derived_data\\\\Rick Astley-vector.csv\")\n",
    "\n",
    "artist = pd.read_csv(\"data\\\\derived_data\\\\Artist_Vector_normalized.csv\")\n",
    "artist.index = artist['artist']\n",
    "artist_song = pd.read_csv(\"data\\\\raw_data\\\\artist-song.csv\")"
   ]
  },
  {
   "cell_type": "code",
   "execution_count": 3,
   "metadata": {},
   "outputs": [],
   "source": [
    "\n",
    "\n",
    "artist = artist[[str(k) for k in range(150)]]\n",
    "cosine = pd.DataFrame(pairwise.cosine_similarity(artist, meme_vector.T), index = artist.index)\n",
    "\n",
    "cosine_sorted = cosine.sort_values(by =0, ascending = False)\n",
    "cosine_sorted = cosine_sorted.reset_index()\n",
    "\n",
    "cosine_sorted2 = pd.merge(cosine_sorted, artist_song, on ='artist')\n",
    "cosine_sorted2.columns = ['artist','score','index','track_name','proportion']\n",
    "cosine_sorted2 = cosine_sorted2[['artist','score','track_name','proportion']]\n",
    "\n",
    "cosine_sorted2.to_csv(\"data\\\\meme_artist_scores.csv\")\n"
   ]
  },
  {
   "cell_type": "code",
   "execution_count": 6,
   "metadata": {},
   "outputs": [],
   "source": [
    "counts= pd.read_csv(\"data\\\\derived_data\\\\artist_counts.csv\")\n",
    "memes = pd.read_csv(\"data\\\\derived_data\\\\meme_artist_scores.csv\")\n",
    "gs_score = pd.read_csv(\"data\\\\derived_data\\\\gs_score_percentile.csv\")\n",
    "memes2 = pd.merge(memes, gs_score[['artist','percentile']], on ='artist', how='inner')\n",
    "memes3=memes2[memes2['percentile']==100]"
   ]
  },
  {
   "cell_type": "code",
   "execution_count": 3,
   "metadata": {},
   "outputs": [
    {
     "name": "stderr",
     "output_type": "stream",
     "text": [
      "C:\\ProgramData\\Anaconda3\\lib\\site-packages\\ipykernel_launcher.py:8: SettingWithCopyWarning: \n",
      "A value is trying to be set on a copy of a slice from a DataFrame.\n",
      "Try using .loc[row_indexer,col_indexer] = value instead\n",
      "\n",
      "See the caveats in the documentation: https://pandas.pydata.org/pandas-docs/stable/user_guide/indexing.html#returning-a-view-versus-a-copy\n",
      "  \n"
     ]
    }
   ],
   "source": [
    "min_score = memes3['score'].min()\n",
    "max_score = memes3['score'].max()\n",
    "\n",
    "diff = max_score - min_score\n",
    "\n",
    "min_score2 = min_score/diff\n",
    "\n",
    "memes3['Normalized score'] = memes3['score'].apply(lambda x: (x/diff) - min_score2)"
   ]
  },
  {
   "cell_type": "code",
   "execution_count": 25,
   "metadata": {},
   "outputs": [],
   "source": [
    "memes3_temp = memes3.dropna(subset=['track_name'])\n",
    "val = \"\"\n",
    "for i, row in memes3_temp[['artist','track_name','Normalized score']].tail(10).iterrows():\n",
    "    val += \"& {} & {} & ${}$\\\\\\ \".format(str(row[0]).replace(\"&\", \"\\&\"),str(row[1]).replace(\"&\", \"\\&\"),round(row[2],3))"
   ]
  },
  {
   "cell_type": "code",
   "execution_count": 26,
   "metadata": {},
   "outputs": [
    {
     "name": "stdout",
     "output_type": "stream",
     "text": [
      "& Björk & It's Oh So Quiet & $0.05$\\\\ & St. Vincent & Digital Witness & $0.046$\\\\ & Janelle Monáe & Make Me Feel & $0.044$\\\\ & Baroness & Chlorine \\& Wine & $0.042$\\\\ & Purity Ring & bodyache & $0.038$\\\\ & Slowdive & Alison & $0.037$\\\\ & Jon Hopkins & Open Eye Signal & $0.029$\\\\ & Deafheaven & Dream House & $0.019$\\\\ & Autechre & feed1 & $0.001$\\\\ & Pavement & Cut Your Hair & $0.0$\\\\ \n"
     ]
    }
   ],
   "source": [
    "print(val)"
   ]
  },
  {
   "cell_type": "code",
   "execution_count": null,
   "metadata": {},
   "outputs": [],
   "source": []
  }
 ],
 "metadata": {
  "kernelspec": {
   "display_name": "Python 3",
   "language": "python",
   "name": "python3"
  },
  "language_info": {
   "codemirror_mode": {
    "name": "ipython",
    "version": 3
   },
   "file_extension": ".py",
   "mimetype": "text/x-python",
   "name": "python",
   "nbconvert_exporter": "python",
   "pygments_lexer": "ipython3",
   "version": "3.8.5"
  }
 },
 "nbformat": 4,
 "nbformat_minor": 2
}
