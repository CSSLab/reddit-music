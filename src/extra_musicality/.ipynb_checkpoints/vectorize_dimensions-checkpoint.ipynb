{
 "cells": [
  {
   "cell_type": "markdown",
   "metadata": {},
   "source": [
    "# Vectorize z-scores\n",
    "In this file we create a vector from the z-scores we calculated. This method is then used to create the meme-dimension. Note: this method can be used for many interesting metrics; another example would be to take a song heavily associated with sports like \"Take Me Out to the Ballgame\". "
   ]
  },
  {
   "cell_type": "code",
   "execution_count": 1,
   "metadata": {},
   "outputs": [],
   "source": [
    "import pandas as pd \n",
    "import numpy as np \n",
    "from sklearn.metrics import pairwise\n",
    "import matplotlib.pyplot as plt \n",
    "import seaborn as sns \n",
    "import os\n",
    "os.chdir(r'C:\\Users\\Venia\\Desktop\\reddit_music')\n",
    "\n",
    "df = pd.read_csv(\"data\\\\z-scores_f.csv\")\n",
    "\n",
    "metadata=pd.read_table('data\\\\reddit-master-metadata.tsv')\n",
    "vectors=pd.read_table(\"data\\\\reddit-master-vectors.tsv\",names=list(range(150)))\n",
    "metadata=metadata['community']\n",
    "artist = pd.read_csv(\"data/Artist_Vectors_f.csv\")\n",
    "\n",
    "data = pd.merge(metadata, vectors,left_index=True,right_index=True)"
   ]
  },
  {
   "cell_type": "code",
   "execution_count": 32,
   "metadata": {},
   "outputs": [
    {
     "name": "stderr",
     "output_type": "stream",
     "text": [
      "C:\\ProgramData\\Anaconda3\\lib\\site-packages\\ipykernel_launcher.py:14: SettingWithCopyWarning: \n",
      "A value is trying to be set on a copy of a slice from a DataFrame.\n",
      "Try using .loc[row_indexer,col_indexer] = value instead\n",
      "\n",
      "See the caveats in the documentation: https://pandas.pydata.org/pandas-docs/stable/user_guide/indexing.html#returning-a-view-versus-a-copy\n",
      "  \n"
     ]
    }
   ],
   "source": [
    "def create_scores(artists: list, limit = 2, high_limit = True):\n",
    "    rick = df[df['artist'].isin(artists)]\n",
    "    rick_v = pd.merge(rick,data, left_on='subreddit',right_on='community') \n",
    "\n",
    "    # rick_v2 = rick_v[(rick_v['z-score'] >= high_limit) | (rick_v['z-score'] <= lower_limit)]\n",
    "    if high_limit==True:\n",
    "        rick_v2 = rick_v[(rick_v['z-score'] >= limit)]\n",
    "    elif high_limit == False:\n",
    "        rick_v2=rick_v[(rick_v['z-score'] <= limit)]\n",
    "\n",
    "    cols = [k for k in range(150)]\n",
    "\n",
    "    for c in cols:\n",
    "        rick_v2[c] = rick_v2[c]*abs(rick_v2['z-score'])\n",
    "\n",
    "    meme_vector = rick_v2[cols].mean().values\n",
    "\n",
    "    vals = pairwise.cosine_similarity(vectors,meme_vector.reshape(1,-1))\n",
    "\n",
    "    df2 = pd.DataFrame(vals, index= metadata.values)\n",
    "\n",
    "    df2= df2.sort_values(by=0, ascending = False)\n",
    "    df2.columns = ['cosine-similarity']\n",
    "\n",
    "    return df2, meme_vector \n",
    "\n",
    "df2, vector = create_scores(['Rick Astley'], limit = 1.7)\n",
    "\n",
    "\n",
    "pd.Series(vector).to_csv(\"data\\\\rick_astley-vector_f2.csv\", index=False)\n",
    "df2.head(20)\n",
    "\n",
    "\n",
    "\n",
    "df[df['artist']=='Bob Dylan'].sort_values(by='z-score')\n",
    "\n",
    "df2.to_csv(\"rick-astley-score-subreddits_f2.csv\")\n"
   ]
  },
  {
   "cell_type": "code",
   "execution_count": 2,
   "metadata": {},
   "outputs": [],
   "source": [
    "artist = pd.read_csv(\"data/Artist_Vectors_f.csv\")\n",
    "\n",
    "artist.index = artist['artist']\n",
    "artist.drop(['Unnamed: 0','artist','label'],axis=1,inplace=True)"
   ]
  },
  {
   "cell_type": "code",
   "execution_count": null,
   "metadata": {},
   "outputs": [],
   "source": []
  },
  {
   "cell_type": "code",
   "execution_count": 34,
   "metadata": {
    "scrolled": true
   },
   "outputs": [],
   "source": [
    "pd.Series(vector).to_csv(\"data\\\\rick_astley-vector_f2.csv\", index=False)"
   ]
  },
  {
   "cell_type": "code",
   "execution_count": 35,
   "metadata": {},
   "outputs": [
    {
     "data": {
      "text/html": [
       "<div>\n",
       "<style scoped>\n",
       "    .dataframe tbody tr th:only-of-type {\n",
       "        vertical-align: middle;\n",
       "    }\n",
       "\n",
       "    .dataframe tbody tr th {\n",
       "        vertical-align: top;\n",
       "    }\n",
       "\n",
       "    .dataframe thead th {\n",
       "        text-align: right;\n",
       "    }\n",
       "</style>\n",
       "<table border=\"1\" class=\"dataframe\">\n",
       "  <thead>\n",
       "    <tr style=\"text-align: right;\">\n",
       "      <th></th>\n",
       "      <th>0</th>\n",
       "    </tr>\n",
       "    <tr>\n",
       "      <th>artist</th>\n",
       "      <th></th>\n",
       "    </tr>\n",
       "  </thead>\n",
       "  <tbody>\n",
       "    <tr>\n",
       "      <th>Thane</th>\n",
       "      <td>0.957216</td>\n",
       "    </tr>\n",
       "    <tr>\n",
       "      <th>Shokk</th>\n",
       "      <td>0.942616</td>\n",
       "    </tr>\n",
       "    <tr>\n",
       "      <th>Luis Fonsi</th>\n",
       "      <td>0.940832</td>\n",
       "    </tr>\n",
       "    <tr>\n",
       "      <th>El Chombo</th>\n",
       "      <td>0.933548</td>\n",
       "    </tr>\n",
       "    <tr>\n",
       "      <th>Pink Guy</th>\n",
       "      <td>0.930475</td>\n",
       "    </tr>\n",
       "    <tr>\n",
       "      <th>Spongebob Squarepants</th>\n",
       "      <td>0.928503</td>\n",
       "    </tr>\n",
       "    <tr>\n",
       "      <th>Jake Paul</th>\n",
       "      <td>0.923141</td>\n",
       "    </tr>\n",
       "    <tr>\n",
       "      <th>Hovey Benjamin</th>\n",
       "      <td>0.918561</td>\n",
       "    </tr>\n",
       "    <tr>\n",
       "      <th>iDubbbz</th>\n",
       "      <td>0.915184</td>\n",
       "    </tr>\n",
       "    <tr>\n",
       "      <th>Blonde Redhead</th>\n",
       "      <td>0.914984</td>\n",
       "    </tr>\n",
       "  </tbody>\n",
       "</table>\n",
       "</div>"
      ],
      "text/plain": [
       "                              0\n",
       "artist                         \n",
       "Thane                  0.957216\n",
       "Shokk                  0.942616\n",
       "Luis Fonsi             0.940832\n",
       "El Chombo              0.933548\n",
       "Pink Guy               0.930475\n",
       "Spongebob Squarepants  0.928503\n",
       "Jake Paul              0.923141\n",
       "Hovey Benjamin         0.918561\n",
       "iDubbbz                0.915184\n",
       "Blonde Redhead         0.914984"
      ]
     },
     "execution_count": 35,
     "metadata": {},
     "output_type": "execute_result"
    }
   ],
   "source": [
    "pd.DataFrame(pairwise.cosine_similarity(artist.values,vector.reshape(1,-1)), index = artist.index).sort_values(ascending=False, by =0).head(10)"
   ]
  },
  {
   "cell_type": "code",
   "execution_count": 8,
   "metadata": {},
   "outputs": [],
   "source": [
    "\n",
    "## projecting (instead of cosine similarity)\n",
    "\n",
    "def create_scores_project(artists: list, high_limit = 2,low_limit = -0.5):\n",
    "    rick = df[df['artist'].isin(artists)]\n",
    "    rick_v = pd.merge(rick,data, left_on='subreddit',right_on='community') \n",
    "\n",
    "    # rick_v2 = rick_v[(rick_v['z-score'] >= high_limit) | (rick_v['z-score'] <= lower_limit)]\n",
    "    pos_v = rick_v[(rick_v['z-score'] >= high_limit)]\n",
    "    neg_v = rick_v[(rick_v['z-score'] <= low_limit)]\n",
    "    cols = [k for k in range(150)]\n",
    "\n",
    "    # for c in cols:\n",
    "    #     pos_v[c] = pos_v[c]*abs(pos_v['z-score'])\n",
    "    #     neg_v[c] = neg_v[c]*abs(neg_v['z-score'])\n",
    "    # print(pos_v)\n",
    "\n",
    "    pos_v = pos_v[cols].mean().values \n",
    "    pos_v = pos_v/np.linalg.norm(pos_v)\n",
    "    neg_v = neg_v[cols].mean().values\n",
    "    neg_v = neg_v/np.linalg.norm(neg_v)\n",
    "    vector = pos_v - neg_v\n",
    "    vals = np.dot(vectors, vector) / np.linalg.norm(vector)\n",
    "\n",
    "    df2 = pd.DataFrame(vals, index= metadata.values)\n",
    "\n",
    "    df2= df2.sort_values(by=0, ascending = False)\n",
    "    df2.columns = ['projection']\n",
    "\n",
    "    return df2, vector\n",
    "\n",
    "artist = 'Rick Astley'\n",
    "df2, vector = create_scores_project([artist], low_limit=-.3, high_limit=1.7)\n",
    "\n",
    "df2.to_csv('data\\\\subreddit-on-{}-projection_2.csv'.format(artist))\n",
    "vector= pd.DataFrame(vector)\n",
    "\n",
    "vector.to_csv('data\\\\{}-vector_f2_2.csv'.format(artist),index=False)"
   ]
  }
 ],
 "metadata": {
  "kernelspec": {
   "display_name": "Python 3",
   "language": "python",
   "name": "python3"
  },
  "language_info": {
   "codemirror_mode": {
    "name": "ipython",
    "version": 3
   },
   "file_extension": ".py",
   "mimetype": "text/x-python",
   "name": "python",
   "nbconvert_exporter": "python",
   "pygments_lexer": "ipython3",
   "version": "3.8.5"
  }
 },
 "nbformat": 4,
 "nbformat_minor": 2
}
