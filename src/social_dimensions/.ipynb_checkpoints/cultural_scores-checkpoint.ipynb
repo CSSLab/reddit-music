{
 "cells": [
  {
   "cell_type": "markdown",
   "metadata": {},
   "source": [
    "File simply joins Reddit data with the cultural scores and then groups by artists taking mean over the cultural scores. "
   ]
  },
  {
   "cell_type": "code",
   "execution_count": 2,
   "metadata": {},
   "outputs": [],
   "source": [
    "import pandas as pd \n",
    "import os \n",
    "os.chdir(r'C:\\Users\\Venia\\Desktop\\reddit_music')\n"
   ]
  },
  {
   "cell_type": "code",
   "execution_count": 4,
   "metadata": {},
   "outputs": [],
   "source": [
    "df = pd.read_csv(\"data\\\\RedditMusic.csv\")\n",
    "culture_scores = pd.read_csv(\"data\\\\scores_z.csv\")\n"
   ]
  },
  {
   "cell_type": "code",
   "execution_count": 5,
   "metadata": {},
   "outputs": [],
   "source": [
    "genres = pd.read_csv(\"data\\\\genre_names_f.csv\")\n",
    "\n",
    "culture_scores['subreddit'] = culture_scores['community']\n",
    "culture_scores.drop('community',axis=1,inplace=True)\n",
    "data = pd.merge(df[['artist','subreddit']], culture_scores, on ='subreddit')"
   ]
  },
  {
   "cell_type": "code",
   "execution_count": 6,
   "metadata": {},
   "outputs": [],
   "source": [
    "data2 = data.groupby('artist')[['age','affluence','gender','partisan','partisan_neutral']].mean()"
   ]
  },
  {
   "cell_type": "code",
   "execution_count": 7,
   "metadata": {},
   "outputs": [],
   "source": [
    "data2['count'] = data.groupby('artist')['artist'].count().values"
   ]
  },
  {
   "cell_type": "code",
   "execution_count": 10,
   "metadata": {},
   "outputs": [],
   "source": [
    "data2.to_csv(\"data\\\\artist_culture_f.csv\")"
   ]
  },
  {
   "cell_type": "code",
   "execution_count": null,
   "metadata": {},
   "outputs": [],
   "source": []
  },
  {
   "cell_type": "markdown",
   "metadata": {},
   "source": [
    "Calculate correlation between various cultural dimensions"
   ]
  },
  {
   "cell_type": "code",
   "execution_count": 40,
   "metadata": {},
   "outputs": [],
   "source": [
    "data = pd.read_csv(\"data\\\\artist_culture_f.csv\")\n",
    "plot_data = data[data['count'] >= 400]"
   ]
  },
  {
   "cell_type": "code",
   "execution_count": 41,
   "metadata": {},
   "outputs": [],
   "source": [
    "from scipy.stats import pearsonr\n",
    "from scipy.stats import spearmanr"
   ]
  },
  {
   "cell_type": "code",
   "execution_count": 42,
   "metadata": {},
   "outputs": [],
   "source": [
    "def pearson_correlation(data, feat1, feat2):\n",
    "    score_pearson, p_pearson = pearsonr(data[feat1],data[feat2])\n",
    "    score_spearman, p_spearman = spearmanr(data[feat1],data[feat2])\n",
    "    print(\"Relation between {} and {} \\\n",
    "          \\nPearson correlation: {} \\\n",
    "          \\np-value = {}\\\n",
    "          \\n \\\n",
    "          \\nSpearman correlation: {}\\\n",
    "          \\np-value = {}\"\\\n",
    "          .format(feat1, feat2,score_pearson, p_pearson, score_spearman, p_spearman))\n"
   ]
  },
  {
   "cell_type": "code",
   "execution_count": 44,
   "metadata": {},
   "outputs": [
    {
     "name": "stdout",
     "output_type": "stream",
     "text": [
      "Relation between age and affluence           \n",
      "Pearson correlation: 0.7004509789707187           \n",
      "p-value = 6.735913733634665e-104          \n",
      "           \n",
      "Spearman correlation: 0.6199923890792289          \n",
      "p-value = 2.957970518723092e-75\n"
     ]
    }
   ],
   "source": [
    "pearson_correlation(plot_data, 'age','affluence')"
   ]
  },
  {
   "cell_type": "code",
   "execution_count": null,
   "metadata": {},
   "outputs": [],
   "source": []
  }
 ],
 "metadata": {
  "kernelspec": {
   "display_name": "Python 3",
   "language": "python",
   "name": "python3"
  },
  "language_info": {
   "codemirror_mode": {
    "name": "ipython",
    "version": 3
   },
   "file_extension": ".py",
   "mimetype": "text/x-python",
   "name": "python",
   "nbconvert_exporter": "python",
   "pygments_lexer": "ipython3",
   "version": "3.8.5"
  }
 },
 "nbformat": 4,
 "nbformat_minor": 2
}
