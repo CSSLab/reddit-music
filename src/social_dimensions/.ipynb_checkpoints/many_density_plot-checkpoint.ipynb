{
 "cells": [
  {
   "cell_type": "markdown",
   "metadata": {},
   "source": [
    "# Many density Plot (with difference) "
   ]
  },
  {
   "cell_type": "code",
   "execution_count": 164,
   "metadata": {},
   "outputs": [],
   "source": [
    "import numpy as np\n",
    "import pandas as pd\n",
    "import matplotlib.pyplot as plt\n",
    "from matplotlib import rc\n",
    "from scipy.stats import norm\n",
    "plt.rcParams['font.family'] = 'arial'\n",
    "import seaborn as sns\n",
    "from scipy.signal import savgol_filter\n",
    "import os \n",
    "os.chdir(r'C:\\Users\\DELL XPS\\Desktop\\reddit_music')\n",
    "\n",
    "\n",
    "# Groups should be in format [{name:..., weights:...}] or [{name:...., score_col: (hist, bin_edges) }]\n",
    "def many_densities(groups, dimen_list, data, bins=30, density_scaling_factor=5, figsize=(13,10), all_label=\"Music - Reddit \\n difference\"):\n",
    "    n_groups = len(groups)\n",
    "    n_dimens = len(dimen_list)\n",
    "    fig, axs = plt.subplots(1, n_dimens, figsize=figsize)\n",
    "    min_maxs = []\n",
    "    for i, dimen in enumerate(dimen_list):\n",
    "        ax = axs[i]\n",
    "        name = dimen\n",
    "        ax.set_title(name, fontsize = 14)\n",
    "        ax.set_frame_on(False)\n",
    "        ax.tick_params(axis='x', labelrotation=90)\n",
    "        if i == 0:\n",
    "            ax.set_yticks(range(-1, n_groups + 1))\n",
    "            group_labels = [\"%s\\nn=%s\" % (group if type(group) is not dict else group[\"name\"], \"{:,}\".format(round(sum(group['weights'])))) for i, group in enumerate(groups)]\n",
    "            ax.set_yticklabels([None]+[all_label]  + group_labels, ha='right', fontsize=12)\n",
    "        else:\n",
    "            ax.set_yticks([])\n",
    "        ax.set_ylim(-1, n_groups + 1)\n",
    "        min_max = (np.min(data[dimen]), np.max(data[dimen]))\n",
    "#         min_max = (-2.5, 2.5)\n",
    "        min_maxs.append(min_max)\n",
    "        ax.set_xlim(min_max[0], min_max[1])\n",
    "        if name == 'partisan-ness':\n",
    "            ax.set_xticks([-1,1.5,5])\n",
    "        else:\n",
    "            ax.set_xticks([-2.5,0,2.5])\n",
    "        median = np.median(data[name])\n",
    "        ax.axvline(median, color='black', linestyle='--', linewidth=1)\n",
    "    weights = np.empty(len(data))\n",
    "    for i, group in enumerate([None] + groups):\n",
    "        if group is None:\n",
    "            weights1 = groups[i-1].get('weights',None)\n",
    "            weights2 = groups[i-2].get('weights', None)\n",
    "        else:\n",
    "            weights = group.get(\"weights\", None)      \n",
    "        for j, dimen in enumerate(dimen_list):    \n",
    "            name = dimen\n",
    "            if group is not None and name in group:\n",
    "                hist, bin_edges = data[name]\n",
    "            elif group is None:\n",
    "                hist1, bin_edges1 = np.histogram(df[name], bins=bins, range=min_maxs[j], weights=weights1, density=False)\n",
    "                hist2, bin_edges2 = np.histogram(df[name], bins=bins, range=min_maxs[j], weights=weights2, density=False)\n",
    "                hist1 = hist1 / np.sum(hist1)\n",
    "                hist2 = hist2 / np.sum(hist2)\n",
    "                bin_edges = bin_edges1[:-1]\n",
    "                bin_edges2 = bin_edges2[:-1]\n",
    "                hist=hist1-hist2\n",
    "            else:\n",
    "                hist, bin_edges = np.histogram(data[name], bins=bins, range=min_maxs[j], weights=weights, density=False)\n",
    "                hist = hist / np.sum(hist)\n",
    "                bin_edges = bin_edges[:-1]\n",
    "            scaling_factor = (min_maxs[j][1] - min_maxs[j][0]) * density_scaling_factor\n",
    "            x = bin_edges[1:-1]\n",
    "            y = (scaling_factor * hist) + i\n",
    "            y = y[1:-1]\n",
    "            score = 0.4\n",
    "            # y = savgol_filter(y,7,5)\n",
    "            if group is None:\n",
    "#                 y = y*1.7\n",
    "                axs[j].plot(x,y,color='black')\n",
    "                score=0.8\n",
    "                axs[j].fill_between(x, y, i, where=  y>=i, facecolor=\"#FFCB9E\", alpha = score, interpolate = True)\n",
    "                axs[j].fill_between(x, y, i, where = y<=i, facecolor=\"#A5C8E1\", alpha = score, interpolate=True)\n",
    "            else:\n",
    "                axs[j].plot(x, y, color='black')\n",
    "                axs[j].fill_between(x, y, i, alpha=score)\n",
    "\n"
   ]
  },
  {
   "cell_type": "code",
   "execution_count": 106,
   "metadata": {},
   "outputs": [],
   "source": [
    "dimen_list=['age', 'gender', 'partisan', 'partisan-ness','sociality','affluence']\n",
    "\n",
    "df4 = pd.read_csv(r\"data\\Reddit_Sub_Com_f_genre.csv\")\n",
    "\n",
    "df4 = df4.drop_duplicates(subset=['id'])\n",
    "genre = pd.read_csv(\"data\\\\genre_names_f.csv\")\n",
    "\n",
    "df4=pd.merge(df4,genre[['label','genre']],on='label')\n",
    "genres = df4['genre'].unique()\n",
    "\n",
    "\n",
    "plt.rcParams['font.family'] = 'arial'"
   ]
  },
  {
   "cell_type": "code",
   "execution_count": null,
   "metadata": {},
   "outputs": [],
   "source": []
  },
  {
   "cell_type": "code",
   "execution_count": 100,
   "metadata": {},
   "outputs": [],
   "source": [
    "# df=pd.read_csv(\"data\\\\comments_2mil.csv\") ### Not on Github\n",
    "# df2=pd.read_csv(\"data\\\\cultural_scores.csv\")\n",
    "df = pd.read_csv(\"data\\\\reweighted_null_counts.csv\")\n",
    "\n",
    "# to use z-scores scored \n",
    "df2=pd.read_csv(\"data\\\\scores_z.csv\")\n"
   ]
  },
  {
   "cell_type": "code",
   "execution_count": 101,
   "metadata": {},
   "outputs": [],
   "source": [
    "df=df[df['subreddit'].isin(df2['community'].values)]\n"
   ]
  },
  {
   "cell_type": "code",
   "execution_count": 102,
   "metadata": {},
   "outputs": [
    {
     "name": "stderr",
     "output_type": "stream",
     "text": [
      "C:\\ProgramData\\Anaconda3\\lib\\site-packages\\ipykernel_launcher.py:11: SettingWithCopyWarning: \n",
      "A value is trying to be set on a copy of a slice from a DataFrame.\n",
      "Try using .loc[row_indexer,col_indexer] = value instead\n",
      "\n",
      "See the caveats in the documentation: https://pandas.pydata.org/pandas-docs/stable/user_guide/indexing.html#returning-a-view-versus-a-copy\n",
      "  # This is added back by InteractiveShellApp.init_path()\n"
     ]
    }
   ],
   "source": [
    "df2['partisan-ness'] = df2['partisan_neutral']\n",
    "df2['partisan']= df2['partisan']\n",
    "\n",
    "data=pd.DataFrame(df[['subreddit','num_comments']], columns = ['subreddit','num_comments'])\n",
    "\n",
    "data2=pd.merge(data,df2,left_on='subreddit',right_on='community')\n",
    "data2=data2[['subreddit','num_comments']+dimen_list]\n",
    "\n",
    "df4= pd.merge(df4,df2,left_on='subreddit',right_on='community')\n",
    "music=df4[['subreddit','genre']+dimen_list]\n",
    "music['ppmi'] = 1\n",
    "data2['genre'] = 'comments'\n",
    "data2['ppmi'] = 1"
   ]
  },
  {
   "cell_type": "code",
   "execution_count": null,
   "metadata": {},
   "outputs": [],
   "source": []
  },
  {
   "cell_type": "code",
   "execution_count": 103,
   "metadata": {},
   "outputs": [],
   "source": [
    "\n",
    "# to compare all music versus all comments \n",
    "data2['cat']='All of Reddit'\n",
    "df4['cat']='Music'\n",
    "\n",
    "df=df4.append(data2)\n",
    "\n",
    "df['w1']=df['cat'].apply(lambda x: 1 if x == 'Music' else 0)\n",
    "df['w2']=df.apply(lambda x: x['num_comments'] if x['cat'] == 'All of Reddit' else 0, axis = 1)\n",
    "\n",
    "g=['All of Reddit','Music']\n",
    "w=['w2','w1']\n",
    "\n",
    "groups=[]\n",
    "for a,b in zip(g,w):\n",
    "    groups.append({'name':a,'weights':df[b].values})\n",
    "\n",
    "\n"
   ]
  },
  {
   "cell_type": "code",
   "execution_count": 166,
   "metadata": {},
   "outputs": [
    {
     "data": {
      "image/png": "[encoded data removed]",
      "text/plain": [
       "<Figure size 720x360 with 6 Axes>"
      ]
     },
     "metadata": {
      "needs_background": "light"
     },
     "output_type": "display_data"
    }
   ],
   "source": [
    "many_densities(groups, dimen_list, df, density_scaling_factor=0.29, figsize=[10,5], bins = 20)\n",
    "plt.savefig('visuals\\\\music_vs_comments_difference_z3.pdf', dpi = 300, bbox_inches = 'tight')\n",
    "plt.show()"
   ]
  },
  {
   "cell_type": "markdown",
   "metadata": {},
   "source": [
    "### Calculate the log odds ratio between the two communities"
   ]
  },
  {
   "cell_type": "code",
   "execution_count": 141,
   "metadata": {},
   "outputs": [],
   "source": [
    "music = pd.read_csv(r\"data\\Reddit_Sub_Com_f_genre.csv\")\n",
    "reddit = pd.read_csv(\"data\\\\reweighted_null_counts.csv\")\n",
    "\n",
    "reddit = reddit[reddit['subreddit'].isin(music['subreddit'])]"
   ]
  },
  {
   "cell_type": "code",
   "execution_count": 142,
   "metadata": {},
   "outputs": [],
   "source": [
    "music_g = music.groupby('subreddit')['artist'].count()"
   ]
  },
  {
   "cell_type": "code",
   "execution_count": 143,
   "metadata": {},
   "outputs": [],
   "source": [
    "music_g2 = music_g[music_g > 100]"
   ]
  },
  {
   "cell_type": "code",
   "execution_count": 144,
   "metadata": {},
   "outputs": [],
   "source": [
    "sum_music = music_g2.sum()\n",
    "log_odds_music = np.log(music_g2/sum_music / (1-music_g2/sum_music))"
   ]
  },
  {
   "cell_type": "code",
   "execution_count": 145,
   "metadata": {},
   "outputs": [],
   "source": [
    "reddit = reddit[reddit['subreddit'].isin(music_g2.index)]\n",
    "reddit.index = reddit['subreddit']\n",
    "reddit = reddit['num_comments']\n",
    "\n",
    "sum_reddit = reddit.sum()\n",
    "log_odds = np.log((music_g2/sum_music / (1-music_g2/sum_music)) /(reddit/sum_reddit / (1-reddit/sum_reddit)))"
   ]
  },
  {
   "cell_type": "code",
   "execution_count": 150,
   "metadata": {},
   "outputs": [],
   "source": [
    "log_odds = log_odds.sort_values(ascending=False)"
   ]
  },
  {
   "cell_type": "code",
   "execution_count": 152,
   "metadata": {},
   "outputs": [],
   "source": [
    "log_odds.to_csv(\"data\\\\log_odds_ratio.csv\")"
   ]
  },
  {
   "cell_type": "code",
   "execution_count": 138,
   "metadata": {},
   "outputs": [],
   "source": [
    "difference = log_odds_reddit - log_odds_music"
   ]
  },
  {
   "cell_type": "code",
   "execution_count": 139,
   "metadata": {},
   "outputs": [
    {
     "data": {
      "text/plain": [
       "subreddit\n",
       "WoahTunes              -6.398847\n",
       "GuiltyPleasureMusic    -6.009501\n",
       "90sAlternative         -5.840871\n",
       "Alternativerock        -5.747419\n",
       "runningmusic           -5.707331\n",
       "                          ...   \n",
       "GlobalOffensiveTrade    2.678535\n",
       "MakeupAddiction         2.684271\n",
       "fantasyfootball         2.706851\n",
       "RocketLeagueExchange    3.255260\n",
       "buildapc                3.430787\n",
       "Length: 1095, dtype: float64"
      ]
     },
     "execution_count": 139,
     "metadata": {},
     "output_type": "execute_result"
    }
   ],
   "source": [
    "difference.sort_values()"
   ]
  },
  {
   "cell_type": "code",
   "execution_count": null,
   "metadata": {},
   "outputs": [],
   "source": []
  }
 ],
 "metadata": {
  "kernelspec": {
   "display_name": "Python 3",
   "language": "python",
   "name": "python3"
  },
  "language_info": {
   "codemirror_mode": {
    "name": "ipython",
    "version": 3
   },
   "file_extension": ".py",
   "mimetype": "text/x-python",
   "name": "python",
   "nbconvert_exporter": "python",
   "pygments_lexer": "ipython3",
   "version": "3.7.1"
  }
 },
 "nbformat": 4,
 "nbformat_minor": 2
}
